{
 "cells": [
  {
   "cell_type": "markdown",
   "metadata": {},
   "source": [
    "# 匯入模組"
   ]
  },
  {
   "cell_type": "code",
   "execution_count": 3,
   "metadata": {},
   "outputs": [],
   "source": [
    "from PIL import Image\n",
    "import numpy as np\n",
    "from matplotlib.pyplot import imshow"
   ]
  },
  {
   "cell_type": "markdown",
   "metadata": {},
   "source": [
    "# 顯示驗證碼"
   ]
  },
  {
   "cell_type": "code",
   "execution_count": 4,
   "metadata": {},
   "outputs": [
    {
     "data": {
      "text/plain": [
       "<matplotlib.image.AxesImage at 0x68eb470>"
      ]
     },
     "execution_count": 4,
     "metadata": {},
     "output_type": "execute_result"
    },
    {
     "data": {
      "image/png": "[encoded data removed]",
      "text/plain": [
       "<matplotlib.figure.Figure at 0x59e4810>"
      ]
     },
     "metadata": {},
     "output_type": "display_data"
    }
   ],
   "source": [
    "image = Image.open('captcha_data\\\\1.png')\n",
    "imshow(image)"
   ]
  },
  {
   "cell_type": "markdown",
   "metadata": {},
   "source": [
    "# 將影像轉成灰階，因為顏色對於辨識沒有幫助"
   ]
  },
  {
   "cell_type": "code",
   "execution_count": 5,
   "metadata": {},
   "outputs": [
    {
     "data": {
      "text/plain": [
       "<matplotlib.image.AxesImage at 0x69d5050>"
      ]
     },
     "execution_count": 5,
     "metadata": {},
     "output_type": "execute_result"
    },
    {
     "data": {
      "image/png": "[encoded data removed]",
      "text/plain": [
       "<matplotlib.figure.Figure at 0x68dbd50>"
      ]
     },
     "metadata": {},
     "output_type": "display_data"
    }
   ],
   "source": [
    "image = image.convert('LA')\n",
    "imshow(image)"
   ]
  },
  {
   "cell_type": "markdown",
   "metadata": {},
   "source": [
    "# 取得驗證碼的size"
   ]
  },
  {
   "cell_type": "code",
   "execution_count": 6,
   "metadata": {},
   "outputs": [
    {
     "name": "stdout",
     "output_type": "stream",
     "text": [
      "100 50\n"
     ]
    }
   ],
   "source": [
    "width, height = image.size\n",
    "print(width, height)"
   ]
  },
  {
   "cell_type": "markdown",
   "metadata": {},
   "source": [
    "# 將影像轉換成特徵矩陣"
   ]
  },
  {
   "cell_type": "code",
   "execution_count": 7,
   "metadata": {},
   "outputs": [
    {
     "name": "stdout",
     "output_type": "stream",
     "text": [
      "[[[  0 255]\n",
      "  [  0 255]\n",
      "  [  0 255]\n",
      "  ..., \n",
      "  [  0 255]\n",
      "  [  0 255]\n",
      "  [  0 255]]\n",
      "\n",
      " [[  0 255]\n",
      "  [255 255]\n",
      "  [255 255]\n",
      "  ..., \n",
      "  [255 255]\n",
      "  [255 255]\n",
      "  [  0 255]]\n",
      "\n",
      " [[  0 255]\n",
      "  [255 255]\n",
      "  [255 255]\n",
      "  ..., \n",
      "  [255 255]\n",
      "  [255 255]\n",
      "  [  0 255]]\n",
      "\n",
      " ..., \n",
      " [[  0 255]\n",
      "  [255 255]\n",
      "  [255 255]\n",
      "  ..., \n",
      "  [255 255]\n",
      "  [255 255]\n",
      "  [  0 255]]\n",
      "\n",
      " [[  0 255]\n",
      "  [255 255]\n",
      "  [255 255]\n",
      "  ..., \n",
      "  [255 255]\n",
      "  [255 255]\n",
      "  [  0 255]]\n",
      "\n",
      " [[  0 255]\n",
      "  [  0 255]\n",
      "  [  0 255]\n",
      "  ..., \n",
      "  [  0 255]\n",
      "  [  0 255]\n",
      "  [  0 255]]]\n"
     ]
    }
   ],
   "source": [
    "img_arr = np.array(image)\n",
    "print(img_arr)"
   ]
  },
  {
   "cell_type": "markdown",
   "metadata": {},
   "source": [
    "# 將特徵矩陣轉成4維"
   ]
  },
  {
   "cell_type": "code",
   "execution_count": 9,
   "metadata": {},
   "outputs": [
    {
     "name": "stdout",
     "output_type": "stream",
     "text": [
      "[[[[ 0.  1.]\n",
      "   [ 0.  1.]\n",
      "   [ 0.  1.]\n",
      "   ..., \n",
      "   [ 0.  1.]\n",
      "   [ 0.  1.]\n",
      "   [ 0.  1.]]\n",
      "\n",
      "  [[ 0.  1.]\n",
      "   [ 1.  1.]\n",
      "   [ 1.  1.]\n",
      "   ..., \n",
      "   [ 1.  1.]\n",
      "   [ 1.  1.]\n",
      "   [ 0.  1.]]\n",
      "\n",
      "  [[ 0.  1.]\n",
      "   [ 1.  1.]\n",
      "   [ 1.  1.]\n",
      "   ..., \n",
      "   [ 1.  1.]\n",
      "   [ 1.  1.]\n",
      "   [ 0.  1.]]\n",
      "\n",
      "  ..., \n",
      "  [[ 0.  1.]\n",
      "   [ 1.  1.]\n",
      "   [ 1.  1.]\n",
      "   ..., \n",
      "   [ 1.  1.]\n",
      "   [ 1.  1.]\n",
      "   [ 0.  1.]]\n",
      "\n",
      "  [[ 0.  1.]\n",
      "   [ 1.  1.]\n",
      "   [ 1.  1.]\n",
      "   ..., \n",
      "   [ 1.  1.]\n",
      "   [ 1.  1.]\n",
      "   [ 0.  1.]]\n",
      "\n",
      "  [[ 0.  1.]\n",
      "   [ 0.  1.]\n",
      "   [ 0.  1.]\n",
      "   ..., \n",
      "   [ 0.  1.]\n",
      "   [ 0.  1.]\n",
      "   [ 0.  1.]]]]\n"
     ]
    }
   ],
   "source": [
    "img4D = img_arr.reshape(1, 50, 100, 2).astype('float32')\n",
    "img4D /= 255\n",
    "print(img4D)"
   ]
  }
 ],
 "metadata": {
  "kernelspec": {
   "display_name": "Python 3",
   "language": "python",
   "name": "python3"
  },
  "language_info": {
   "codemirror_mode": {
    "name": "ipython",
    "version": 3
   },
   "file_extension": ".py",
   "mimetype": "text/x-python",
   "name": "python",
   "nbconvert_exporter": "python",
   "pygments_lexer": "ipython3",
   "version": "3.6.6"
  }
 },
 "nbformat": 4,
 "nbformat_minor": 2
}
