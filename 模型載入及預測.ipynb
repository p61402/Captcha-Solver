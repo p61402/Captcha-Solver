{
 "cells": [
  {
   "cell_type": "markdown",
   "metadata": {},
   "source": [
    "😀模型載入與預測\n",
    "=============="
   ]
  },
  {
   "cell_type": "markdown",
   "metadata": {},
   "source": [
    "## 😂載入所需模組"
   ]
  },
  {
   "cell_type": "code",
   "execution_count": 56,
   "metadata": {},
   "outputs": [],
   "source": [
    "import os\n",
    "import time\n",
    "from natsort import natsorted, ns\n",
    "from PIL import Image\n",
    "import numpy as np\n",
    "from matplotlib.pyplot import imshow\n",
    "import csv\n",
    "from keras.models import load_model"
   ]
  },
  {
   "cell_type": "markdown",
   "metadata": {},
   "source": [
    "## 😂定義函數"
   ]
  },
  {
   "cell_type": "markdown",
   "metadata": {},
   "source": [
    "### 函數: 將資料夾內的圖片縮放成符合輸入的大小"
   ]
  },
  {
   "cell_type": "code",
   "execution_count": 57,
   "metadata": {},
   "outputs": [],
   "source": [
    "def resize_images(folder):\n",
    "    imgs = [os.path.join(folder, img) for img in os.listdir(folder)]\n",
    "    for img in imgs:\n",
    "        image = Image.open(img)\n",
    "        image = image.resize((100, 50))\n",
    "        image.save(img)"
   ]
  },
  {
   "cell_type": "markdown",
   "metadata": {},
   "source": [
    "### 函數: 讀取資料夾內的圖片檔，並轉換成符合輸入的形式"
   ]
  },
  {
   "cell_type": "code",
   "execution_count": 1,
   "metadata": {},
   "outputs": [],
   "source": [
    "def get_data(data_folder):\n",
    "    img_list = os.listdir(data_folder)\n",
    "    img_list = [os.path.join(data_folder, img) for img in img_list]\n",
    "    img_list = natsorted(img_list, alg=ns.IGNORECASE)\n",
    "    \n",
    "    img_arr = []\n",
    "    for img in img_list:\n",
    "        image = Image.open(img)\n",
    "        image = image.convert('L')\n",
    "        image = np.array(image)\n",
    "        img_arr.append(image.tolist())\n",
    "\n",
    "    img_arr = np.array(img_arr)\n",
    "    \n",
    "    data = img_arr.reshape(img_arr.shape[0], 50, 100, 1).astype('float32')\n",
    "    data /= 255\n",
    "    return data"
   ]
  },
  {
   "cell_type": "markdown",
   "metadata": {},
   "source": [
    "### 函數: 讀入資料標記檔，並轉換成符合輸入的形式"
   ]
  },
  {
   "cell_type": "code",
   "execution_count": 59,
   "metadata": {},
   "outputs": [],
   "source": [
    "def get_labels(label_file):\n",
    "    y_onehot = []\n",
    "    with open(label_file) as csvfile:\n",
    "        content = csv.reader(csvfile)\n",
    "        for row in content:\n",
    "            onehot = []\n",
    "            for i, char in enumerate(row[0]):\n",
    "                each_dight = [0] * 10\n",
    "                each_dight[int(char)] = 1\n",
    "                onehot.append(each_dight)\n",
    "            y_onehot.append(onehot)\n",
    "\n",
    "    y_Train_1 = np.array([y[0] for y in y_onehot])\n",
    "    y_Train_2 = np.array([y[1] for y in y_onehot])\n",
    "    y_Train_3 = np.array([y[2] for y in y_onehot])\n",
    "    y_Train_4 = np.array([y[3] for y in y_onehot])\n",
    "    y_Train = [y_Train_1, y_Train_2, y_Train_3, y_Train_4]\n",
    "    return y_Train"
   ]
  },
  {
   "cell_type": "markdown",
   "metadata": {},
   "source": [
    "### 函數: 載入資料"
   ]
  },
  {
   "cell_type": "code",
   "execution_count": 60,
   "metadata": {},
   "outputs": [],
   "source": [
    "def load_data(data_folder, label_file):\n",
    "    return get_data(data_folder), get_labels(label_file)"
   ]
  },
  {
   "cell_type": "markdown",
   "metadata": {},
   "source": [
    "### 函數: 將預測結果轉換成對應的答案，取機率最高者"
   ]
  },
  {
   "cell_type": "code",
   "execution_count": 61,
   "metadata": {},
   "outputs": [],
   "source": [
    "def pred_to_ans(x):\n",
    "    pred = []\n",
    "    for i in range(x[0].shape[0]):\n",
    "        ans = ''\n",
    "        for j in range(4):\n",
    "            max_val = 0\n",
    "            max_idx = 0\n",
    "            for idx, val in enumerate(x[j][i]):\n",
    "                if val > max_val:\n",
    "                    max_val = val\n",
    "                    max_idx = idx\n",
    "            ans += str(max_idx)\n",
    "        pred.append(ans)\n",
    "    return pred"
   ]
  },
  {
   "cell_type": "markdown",
   "metadata": {},
   "source": [
    "### 函數: 將資料標註轉換成對應的答案，以便與預測結果進行比較"
   ]
  },
  {
   "cell_type": "code",
   "execution_count": 62,
   "metadata": {},
   "outputs": [],
   "source": [
    "def label_to_ans(y):\n",
    "    answers = []\n",
    "    for i in range(len(y[0])):\n",
    "        ans = ''\n",
    "        for j in range(4):\n",
    "            for idx, val in enumerate(y[j][i]):\n",
    "                if val == 1:\n",
    "                    ans += str(idx)\n",
    "                    break\n",
    "        answers.append(ans)\n",
    "    return answers"
   ]
  },
  {
   "cell_type": "markdown",
   "metadata": {},
   "source": [
    "### 函數: 計算預測的準確率"
   ]
  },
  {
   "cell_type": "code",
   "execution_count": 63,
   "metadata": {},
   "outputs": [],
   "source": [
    "def accuracy(pred, ans):\n",
    "    num = 0\n",
    "    correct_count = 0\n",
    "    total = len(pred)\n",
    "    wrong_list = []\n",
    "    for i, j in zip(pred, ans):\n",
    "        num += 1\n",
    "        if i == j:\n",
    "            correct_count += 1\n",
    "        else:\n",
    "            wrong_list.append((num ,i, j))\n",
    "    return correct_count  / total, wrong_list"
   ]
  },
  {
   "cell_type": "markdown",
   "metadata": {},
   "source": [
    "### 函數: 讀入資料夾內的圖片檔案，回傳成便於處理的形式"
   ]
  },
  {
   "cell_type": "code",
   "execution_count": 64,
   "metadata": {},
   "outputs": [],
   "source": [
    "def load_image_arrays(data):\n",
    "    img_list = os.listdir(data)\n",
    "    img_list = [os.path.join(data, img) for img in img_list]\n",
    "    img_list = natsorted(img_list, alg=ns.IGNORECASE)\n",
    "\n",
    "    img_arr = []\n",
    "    for img in img_list:\n",
    "        image = Image.open(img)\n",
    "        image = image.convert('L')\n",
    "        image = np.array(image)\n",
    "        img_arr.append(image.tolist())\n",
    "    return img_arr"
   ]
  },
  {
   "cell_type": "markdown",
   "metadata": {},
   "source": [
    "### 函數: 顯示預測錯誤的資料細節"
   ]
  },
  {
   "cell_type": "code",
   "execution_count": 65,
   "metadata": {},
   "outputs": [],
   "source": [
    "import matplotlib.pyplot as plt\n",
    "def plot_wrong_prediction(image_path, wrong_list):\n",
    "    images = load_image_arrays(image_path)\n",
    "    \n",
    "    fig = plt.gcf()\n",
    "    fig.set_size_inches(12, 8)\n",
    "    max_num = 50\n",
    "    i = 0\n",
    "    for index, pred, ans in wrong_list:\n",
    "        ax = plt.subplot(5, 5, 1 + i)\n",
    "        ax.imshow(images[index - 1], cmap='binary')\n",
    "        title = \"index=\" + str(index) + \"\\n\"\n",
    "        title += \"label=\" + ans\n",
    "        title += \",predict=\" + pred\n",
    "        ax.set_title(title, fontsize=10)\n",
    "        ax.set_xticks([])\n",
    "        ax.set_yticks([])\n",
    "        i += 1\n",
    "        if (i >= max_num):\n",
    "            break\n",
    "    plt.show()"
   ]
  },
  {
   "cell_type": "markdown",
   "metadata": {},
   "source": [
    "### 函數: 輸入一個串列，回傳前 **n** 大的數值在串列中的索引值"
   ]
  },
  {
   "cell_type": "code",
   "execution_count": 66,
   "metadata": {},
   "outputs": [],
   "source": [
    "from heapq import nlargest\n",
    "\n",
    "def find_n_largest_index(arr, n):\n",
    "    return nlargest(n, range(len(arr)), key=lambda x: arr[x])"
   ]
  },
  {
   "cell_type": "markdown",
   "metadata": {},
   "source": [
    "### 函數: 輸入一個串列，回傳陣列中相鄰數值的差"
   ]
  },
  {
   "cell_type": "code",
   "execution_count": 67,
   "metadata": {},
   "outputs": [],
   "source": [
    "def find_adjacent_difference(arr):\n",
    "    return [arr[i] - arr[i + 1] for i in range(len(arr) - 1)]"
   ]
  },
  {
   "cell_type": "markdown",
   "metadata": {},
   "source": [
    "### 函數: 回傳前 **n** 個最有可能的答案的索引值"
   ]
  },
  {
   "cell_type": "code",
   "execution_count": 68,
   "metadata": {},
   "outputs": [],
   "source": [
    "def find_n_least_difference_answer(index_list, difference_list, digit_number, n):\n",
    "    pointers = [0] * digit_number\n",
    "    answers_indices = [None] * n\n",
    "    answers_indices[0] = [index_list[x][0] for x in range(digit_number)]\n",
    "    \n",
    "    for ans_count in range(1, n):\n",
    "        min_diff = 1\n",
    "        which_digit = 0\n",
    "        for i in range(digit_number):\n",
    "            if pointers[i] < n - 1 and difference_list[i][pointers[i]] <= min_diff:\n",
    "                min_diff = difference_list[i][pointers[i]]\n",
    "                which_digit = i\n",
    "        pointers[which_digit] += 1\n",
    "        g = [None] * digit_number\n",
    "        for x, p in enumerate(pointers):\n",
    "            g[x] = index_list[x][p]\n",
    "        answers_indices[ans_count] = g\n",
    "    return answers_indices"
   ]
  },
  {
   "cell_type": "markdown",
   "metadata": {},
   "source": [
    "### 函數: 根據預測的機率，回傳前 **n** 個最有可能的答案"
   ]
  },
  {
   "cell_type": "code",
   "execution_count": 69,
   "metadata": {},
   "outputs": [],
   "source": [
    "def get_n_most_possible_answer(the_pred, index, n):\n",
    "    index -= 1\n",
    "    index_list = [None] * 4\n",
    "    difference_list = [None] * 4\n",
    "    for i in range(4):\n",
    "        index_list[i] = find_n_largest_index(the_pred[i][index], n)\n",
    "        n_probs = [the_pred[i][index][k] for k in index_list[i]]\n",
    "        difference_list[i] = find_adjacent_difference(n_probs)\n",
    "    ans_indices = find_n_least_difference_answer(index_list, difference_list, 4, n)\n",
    "    ans_list = [None] * n\n",
    "    for i, each_ans in enumerate(ans_indices):\n",
    "        ans_list[i] = ''.join(str(d) for d in each_ans)\n",
    "    return ans_list"
   ]
  },
  {
   "cell_type": "markdown",
   "metadata": {},
   "source": [
    "## 😂 載入資料及模型"
   ]
  },
  {
   "cell_type": "markdown",
   "metadata": {},
   "source": [
    "### 載入訓練資料"
   ]
  },
  {
   "cell_type": "code",
   "execution_count": 70,
   "metadata": {},
   "outputs": [
    {
     "name": "stdout",
     "output_type": "stream",
     "text": [
      "訓練資料: (2000, 50, 100, 1)\n",
      "訓練標籤: 4 個 array\n"
     ]
    }
   ],
   "source": [
    "training_data = 'C:\\\\Users\\\\USER\\\\Desktop\\\\Auto Bank\\\\hua_nan\\\\training_images'\n",
    "training_labels = 'C:\\\\Users\\\\USER\\\\Desktop\\\\Auto Bank\\\\hua_nan\\\\training_labels.csv'\n",
    "x_Train, y_Train = load_data(training_data, training_labels)\n",
    "print('訓練資料:', x_Train.shape)\n",
    "print('訓練標籤:', len(y_Train), '個 array')"
   ]
  },
  {
   "cell_type": "markdown",
   "metadata": {},
   "source": [
    "### 載入測試資料"
   ]
  },
  {
   "cell_type": "code",
   "execution_count": 71,
   "metadata": {},
   "outputs": [
    {
     "name": "stdout",
     "output_type": "stream",
     "text": [
      "測試資料: (400, 50, 100, 1)\n",
      "測試標籤: 4 個 array\n"
     ]
    }
   ],
   "source": [
    "testing_data = 'C:\\\\Users\\\\USER\\\\Desktop\\\\Auto Bank\\\\hua_nan\\\\testing_images'\n",
    "testing_labels = 'C:\\\\Users\\\\USER\\\\Desktop\\\\Auto Bank\\\\hua_nan\\\\testing_labels.csv'\n",
    "x_Test, y_Test = load_data(testing_data, testing_labels)\n",
    "print('測試資料:', x_Test.shape)\n",
    "print('測試標籤:', len(y_Test), '個 array')"
   ]
  },
  {
   "cell_type": "markdown",
   "metadata": {},
   "source": [
    "### 載入完整模型與參數"
   ]
  },
  {
   "cell_type": "code",
   "execution_count": 72,
   "metadata": {},
   "outputs": [
    {
     "name": "stdout",
     "output_type": "stream",
     "text": [
      "花費時間: 4.84925651550293 秒\n"
     ]
    }
   ],
   "source": [
    "start_time = time.time()\n",
    "\n",
    "the_model = load_model('Models\\\\Captcha_Model_002.h5')\n",
    "\n",
    "end_time = time.time()\n",
    "print('花費時間:', end_time - start_time, '秒')"
   ]
  },
  {
   "cell_type": "markdown",
   "metadata": {},
   "source": [
    "### 分別載入模型及參數"
   ]
  },
  {
   "cell_type": "code",
   "execution_count": 73,
   "metadata": {},
   "outputs": [
    {
     "name": "stdout",
     "output_type": "stream",
     "text": [
      "花費時間: 1.151634931564331 秒\n"
     ]
    }
   ],
   "source": [
    "start_time = time.time()\n",
    "\n",
    "from keras.models import model_from_json\n",
    "import json\n",
    "\n",
    "json_string = ''\n",
    "with open('Models\\\\Captcha_Model_002.json') as json_data:\n",
    "    json_string = json.load(json_data)\n",
    "\n",
    "the_model = model_from_json(json_string)\n",
    "the_model.load_weights('Models\\\\Captcha_Model_Weight_002.h5')\n",
    "\n",
    "end_time = time.time()\n",
    "print('花費時間:', end_time - start_time, '秒')"
   ]
  },
  {
   "cell_type": "markdown",
   "metadata": {},
   "source": [
    "## 😂進行預測"
   ]
  },
  {
   "cell_type": "markdown",
   "metadata": {},
   "source": [
    "### 將測試資料丟進模型預測"
   ]
  },
  {
   "cell_type": "code",
   "execution_count": 74,
   "metadata": {},
   "outputs": [],
   "source": [
    "prediction = the_model.predict(x_Test)"
   ]
  },
  {
   "cell_type": "markdown",
   "metadata": {},
   "source": [
    "### 將預測結果轉換成對應的答案，取機率最高者"
   ]
  },
  {
   "cell_type": "code",
   "execution_count": 75,
   "metadata": {},
   "outputs": [],
   "source": [
    "pred = pred_to_ans(prediction)"
   ]
  },
  {
   "cell_type": "markdown",
   "metadata": {},
   "source": [
    "### 將標記資料轉換成對應的答案"
   ]
  },
  {
   "cell_type": "code",
   "execution_count": 76,
   "metadata": {},
   "outputs": [],
   "source": [
    "answers = label_to_ans(y_Test)"
   ]
  },
  {
   "cell_type": "markdown",
   "metadata": {},
   "source": [
    "### 比較預測結果與正確答案，回傳準確率與預測錯誤的資料"
   ]
  },
  {
   "cell_type": "code",
   "execution_count": 77,
   "metadata": {},
   "outputs": [],
   "source": [
    "acc, wrong = accuracy(pred, answers)"
   ]
  },
  {
   "cell_type": "markdown",
   "metadata": {},
   "source": [
    "### 顯示準確率"
   ]
  },
  {
   "cell_type": "code",
   "execution_count": 78,
   "metadata": {},
   "outputs": [
    {
     "name": "stdout",
     "output_type": "stream",
     "text": [
      "總計 400 筆資料\n",
      "準確率: 99.75 %\n"
     ]
    }
   ],
   "source": [
    "print('總計', x_Test.shape[0], '筆資料')\n",
    "print('準確率:', acc * 100, '%')"
   ]
  },
  {
   "cell_type": "markdown",
   "metadata": {},
   "source": [
    "### 顯示預測錯誤的圖片的細節"
   ]
  },
  {
   "cell_type": "code",
   "execution_count": 79,
   "metadata": {
    "scrolled": true
   },
   "outputs": [
    {
     "data": {
      "image/png": "[encoded data removed]",
      "text/plain": [
       "<Figure size 864x576 with 1 Axes>"
      ]
     },
     "metadata": {},
     "output_type": "display_data"
    }
   ],
   "source": [
    "plot_wrong_prediction(testing_data, wrong)"
   ]
  },
  {
   "cell_type": "markdown",
   "metadata": {},
   "source": [
    "### 對預測錯誤的圖片找出其他可能的答案"
   ]
  },
  {
   "cell_type": "code",
   "execution_count": 80,
   "metadata": {},
   "outputs": [],
   "source": [
    "five_most_possible_answers_for_wrong_list = {}\n",
    "for i, w in enumerate(wrong):\n",
    "    five_most_possible_answers_for_wrong_list[w[0]] = get_n_most_possible_answer(prediction, w[0], 5)"
   ]
  },
  {
   "cell_type": "code",
   "execution_count": 81,
   "metadata": {
    "scrolled": true
   },
   "outputs": [
    {
     "name": "stdout",
     "output_type": "stream",
     "text": [
      "影像編號 261 的預測前五名是 ['1139', '1119', '1179', '1159', '1199']\n"
     ]
    }
   ],
   "source": [
    "for key, value in five_most_possible_answers_for_wrong_list.items():\n",
    "    print('影像編號', key, '的預測前五名是', value)"
   ]
  }
 ],
 "metadata": {
  "kernelspec": {
   "display_name": "Python 3",
   "language": "python",
   "name": "python3"
  },
  "language_info": {
   "codemirror_mode": {
    "name": "ipython",
    "version": 3
   },
   "file_extension": ".py",
   "mimetype": "text/x-python",
   "name": "python",
   "nbconvert_exporter": "python",
   "pygments_lexer": "ipython3",
   "version": "3.6.6"
  }
 },
 "nbformat": 4,
 "nbformat_minor": 2
}
