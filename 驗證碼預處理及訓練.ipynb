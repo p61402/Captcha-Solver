{
 "cells": [
  {
   "cell_type": "markdown",
   "metadata": {},
   "source": [
    "# 確認 **Tensorflow** 使用 **GPU** 進行運算"
   ]
  },
  {
   "cell_type": "code",
   "execution_count": 1,
   "metadata": {},
   "outputs": [
    {
     "name": "stdout",
     "output_type": "stream",
     "text": [
      "[name: \"/device:CPU:0\"\n",
      "device_type: \"CPU\"\n",
      "memory_limit: 268435456\n",
      "locality {\n",
      "}\n",
      "incarnation: 8233500744386945323\n",
      ", name: \"/device:GPU:0\"\n",
      "device_type: \"GPU\"\n",
      "memory_limit: 1492117094\n",
      "locality {\n",
      "  bus_id: 1\n",
      "  links {\n",
      "  }\n",
      "}\n",
      "incarnation: 11515845169002922151\n",
      "physical_device_desc: \"device: 0, name: GeForce 840M, pci bus id: 0000:04:00.0, compute capability: 5.0\"\n",
      "]\n"
     ]
    }
   ],
   "source": [
    "from tensorflow.python.client import device_lib\n",
    "\n",
    "print(device_lib.list_local_devices())"
   ]
  },
  {
   "cell_type": "code",
   "execution_count": 4,
   "metadata": {},
   "outputs": [
    {
     "data": {
      "text/plain": [
       "['/job:localhost/replica:0/task:0/device:GPU:0']"
      ]
     },
     "execution_count": 4,
     "metadata": {},
     "output_type": "execute_result"
    }
   ],
   "source": [
    "from keras import backend as K\n",
    "K.tensorflow_backend._get_available_gpus()"
   ]
  },
  {
   "cell_type": "markdown",
   "metadata": {},
   "source": [
    "# 載入所需套件"
   ]
  },
  {
   "cell_type": "code",
   "execution_count": 5,
   "metadata": {},
   "outputs": [],
   "source": [
    "import os\n",
    "from natsort import natsorted, ns\n",
    "from PIL import Image\n",
    "import numpy as np\n",
    "from matplotlib.pyplot import imshow\n",
    "import csv"
   ]
  },
  {
   "cell_type": "markdown",
   "metadata": {},
   "source": [
    "# 取得圖片資料"
   ]
  },
  {
   "cell_type": "code",
   "execution_count": 3,
   "metadata": {},
   "outputs": [],
   "source": [
    "def get_data(data_folder):\n",
    "    img_list = os.listdir(data_folder)\n",
    "    img_list = [os.path.join(data_folder, img) for img in img_list]\n",
    "    img_list = natsorted(img_list, alg=ns.IGNORECASE)\n",
    "    \n",
    "    img_arr = []\n",
    "    for img in img_list:\n",
    "        image = Image.open(img)\n",
    "        image = image.convert('L')\n",
    "        image = np.array(image)\n",
    "        img_arr.append(image.tolist())\n",
    "\n",
    "    img_arr = np.array(img_arr)\n",
    "    \n",
    "    data = img_arr.reshape(img_arr.shape[0], 50, 100, 1).astype('float32')\n",
    "    data /= 255\n",
    "    return data"
   ]
  },
  {
   "cell_type": "markdown",
   "metadata": {},
   "source": [
    "# 取得標註資料"
   ]
  },
  {
   "cell_type": "code",
   "execution_count": 7,
   "metadata": {},
   "outputs": [],
   "source": [
    "def get_labels(label_file):\n",
    "    y_onehot = []\n",
    "    with open(label_file) as csvfile:\n",
    "        content = csv.reader(csvfile)\n",
    "        for row in content:\n",
    "            onehot = []\n",
    "            for i, char in enumerate(row[0]):\n",
    "                each_dight = [0] * 10\n",
    "                each_dight[int(char)] = 1\n",
    "                onehot.append(each_dight)\n",
    "            y_onehot.append(onehot)\n",
    "\n",
    "    y_Train_1 = np.array([y[0] for y in y_onehot])\n",
    "    y_Train_2 = np.array([y[1] for y in y_onehot])\n",
    "    y_Train_3 = np.array([y[2] for y in y_onehot])\n",
    "    y_Train_4 = np.array([y[3] for y in y_onehot])\n",
    "    y_Train = [y_Train_1, y_Train_2, y_Train_3, y_Train_4]\n",
    "    return y_Train"
   ]
  },
  {
   "cell_type": "markdown",
   "metadata": {},
   "source": [
    "# 載入訓練資料及標籤"
   ]
  },
  {
   "cell_type": "code",
   "execution_count": 8,
   "metadata": {},
   "outputs": [],
   "source": [
    "def load_data(data_folder, label_file):\n",
    "    return get_data(data_folder), get_labels(label_file)"
   ]
  },
  {
   "cell_type": "code",
   "execution_count": 9,
   "metadata": {
    "scrolled": true
   },
   "outputs": [
    {
     "name": "stdout",
     "output_type": "stream",
     "text": [
      "訓練資料: (2000, 50, 100, 1)\n",
      "訓練標籤: 4 個 array\n"
     ]
    }
   ],
   "source": [
    "training_data = 'C:\\\\Users\\\\USER\\\\Desktop\\\\Auto Bank\\\\hua_nan\\\\training_images'\n",
    "training_labels = 'C:\\\\Users\\\\USER\\\\Desktop\\\\Auto Bank\\\\hua_nan\\\\training_labels.csv'\n",
    "x_Train, y_Train = load_data(training_data, training_labels)\n",
    "print('訓練資料:', x_Train.shape)\n",
    "print('訓練標籤:', len(y_Train), '個 array')"
   ]
  },
  {
   "cell_type": "code",
   "execution_count": 10,
   "metadata": {
    "scrolled": true
   },
   "outputs": [
    {
     "data": {
      "text/plain": [
       "<matplotlib.image.AxesImage at 0x1e8d0729898>"
      ]
     },
     "execution_count": 10,
     "metadata": {},
     "output_type": "execute_result"
    },
    {
     "data": {
      "image/png": "[encoded data removed]",
      "text/plain": [
       "<Figure size 432x288 with 1 Axes>"
      ]
     },
     "metadata": {},
     "output_type": "display_data"
    }
   ],
   "source": [
    "image = Image.open('hua_nan\\\\training_images\\\\1234.png')\n",
    "imshow(image)"
   ]
  },
  {
   "cell_type": "markdown",
   "metadata": {},
   "source": [
    "# 建立模型"
   ]
  },
  {
   "cell_type": "code",
   "execution_count": 11,
   "metadata": {},
   "outputs": [],
   "source": [
    "from keras.models import Model, load_model\n",
    "from keras.layers import Input, Dense, Dropout, Flatten, Conv2D, MaxPool2D\n",
    "from IPython.display import SVG\n",
    "from keras.utils.vis_utils import model_to_dot"
   ]
  },
  {
   "cell_type": "code",
   "execution_count": 12,
   "metadata": {},
   "outputs": [],
   "source": [
    "main_input = Input(shape=(50, 100, 1))"
   ]
  },
  {
   "cell_type": "code",
   "execution_count": 13,
   "metadata": {},
   "outputs": [],
   "source": [
    "conv1 = Conv2D(filters=32, kernel_size=(3, 3), padding='same', activation='relu')(main_input)"
   ]
  },
  {
   "cell_type": "code",
   "execution_count": 14,
   "metadata": {},
   "outputs": [],
   "source": [
    "conv2 = Conv2D(filters=32, kernel_size=(3, 3), activation='relu')(conv1)"
   ]
  },
  {
   "cell_type": "code",
   "execution_count": 15,
   "metadata": {},
   "outputs": [],
   "source": [
    "pool1 = MaxPool2D(pool_size=(2, 2))(conv2)"
   ]
  },
  {
   "cell_type": "code",
   "execution_count": 16,
   "metadata": {},
   "outputs": [],
   "source": [
    "conv3 = Conv2D(filters=64, kernel_size=(3, 3), padding='same', activation='relu')(pool1)"
   ]
  },
  {
   "cell_type": "code",
   "execution_count": 17,
   "metadata": {},
   "outputs": [],
   "source": [
    "conv4 = Conv2D(filters=64, kernel_size=(3, 3), activation='relu')(conv3)"
   ]
  },
  {
   "cell_type": "code",
   "execution_count": 18,
   "metadata": {},
   "outputs": [],
   "source": [
    "pool2 = MaxPool2D(pool_size=(2, 2))(conv4)"
   ]
  },
  {
   "cell_type": "code",
   "execution_count": 19,
   "metadata": {},
   "outputs": [],
   "source": [
    "conv5 = Conv2D(filters=128, kernel_size=(3, 3), padding='same', activation='relu')(pool2)"
   ]
  },
  {
   "cell_type": "code",
   "execution_count": 20,
   "metadata": {},
   "outputs": [],
   "source": [
    "conv6 = Conv2D(filters=128, kernel_size=(3, 3), activation='relu')(conv5)"
   ]
  },
  {
   "cell_type": "code",
   "execution_count": 21,
   "metadata": {},
   "outputs": [],
   "source": [
    "pool3 = MaxPool2D(pool_size=(2, 2))(conv6)"
   ]
  },
  {
   "cell_type": "code",
   "execution_count": 22,
   "metadata": {},
   "outputs": [],
   "source": [
    "conv7 = Conv2D(filters=256, kernel_size=(3, 3), activation='relu')(pool3)"
   ]
  },
  {
   "cell_type": "code",
   "execution_count": 23,
   "metadata": {},
   "outputs": [],
   "source": [
    "pool4 = MaxPool2D(pool_size=(2, 2))(conv7)"
   ]
  },
  {
   "cell_type": "code",
   "execution_count": 24,
   "metadata": {},
   "outputs": [],
   "source": [
    "flat1 = Flatten()(pool4)"
   ]
  },
  {
   "cell_type": "code",
   "execution_count": 25,
   "metadata": {},
   "outputs": [],
   "source": [
    "drop1 = Dropout(0.5)(flat1)"
   ]
  },
  {
   "cell_type": "code",
   "execution_count": 26,
   "metadata": {},
   "outputs": [],
   "source": [
    "output = [Dense(10, activation='softmax', name='output' + str(i + 1))(drop1) for i in range(4)]"
   ]
  },
  {
   "cell_type": "code",
   "execution_count": 27,
   "metadata": {},
   "outputs": [],
   "source": [
    "model = Model(inputs=main_input, outputs=output)"
   ]
  },
  {
   "cell_type": "code",
   "execution_count": 28,
   "metadata": {},
   "outputs": [
    {
     "name": "stdout",
     "output_type": "stream",
     "text": [
      "__________________________________________________________________________________________________\n",
      "Layer (type)                    Output Shape         Param #     Connected to                     \n",
      "==================================================================================================\n",
      "input_1 (InputLayer)            (None, 50, 100, 1)   0                                            \n",
      "__________________________________________________________________________________________________\n",
      "conv2d_1 (Conv2D)               (None, 50, 100, 32)  320         input_1[0][0]                    \n",
      "__________________________________________________________________________________________________\n",
      "conv2d_2 (Conv2D)               (None, 48, 98, 32)   9248        conv2d_1[0][0]                   \n",
      "__________________________________________________________________________________________________\n",
      "max_pooling2d_1 (MaxPooling2D)  (None, 24, 49, 32)   0           conv2d_2[0][0]                   \n",
      "__________________________________________________________________________________________________\n",
      "conv2d_3 (Conv2D)               (None, 24, 49, 64)   18496       max_pooling2d_1[0][0]            \n",
      "__________________________________________________________________________________________________\n",
      "conv2d_4 (Conv2D)               (None, 22, 47, 64)   36928       conv2d_3[0][0]                   \n",
      "__________________________________________________________________________________________________\n",
      "max_pooling2d_2 (MaxPooling2D)  (None, 11, 23, 64)   0           conv2d_4[0][0]                   \n",
      "__________________________________________________________________________________________________\n",
      "conv2d_5 (Conv2D)               (None, 11, 23, 128)  73856       max_pooling2d_2[0][0]            \n",
      "__________________________________________________________________________________________________\n",
      "conv2d_6 (Conv2D)               (None, 9, 21, 128)   147584      conv2d_5[0][0]                   \n",
      "__________________________________________________________________________________________________\n",
      "max_pooling2d_3 (MaxPooling2D)  (None, 4, 10, 128)   0           conv2d_6[0][0]                   \n",
      "__________________________________________________________________________________________________\n",
      "conv2d_7 (Conv2D)               (None, 2, 8, 256)    295168      max_pooling2d_3[0][0]            \n",
      "__________________________________________________________________________________________________\n",
      "max_pooling2d_4 (MaxPooling2D)  (None, 1, 4, 256)    0           conv2d_7[0][0]                   \n",
      "__________________________________________________________________________________________________\n",
      "flatten_1 (Flatten)             (None, 1024)         0           max_pooling2d_4[0][0]            \n",
      "__________________________________________________________________________________________________\n",
      "dropout_1 (Dropout)             (None, 1024)         0           flatten_1[0][0]                  \n",
      "__________________________________________________________________________________________________\n",
      "output1 (Dense)                 (None, 10)           10250       dropout_1[0][0]                  \n",
      "__________________________________________________________________________________________________\n",
      "output2 (Dense)                 (None, 10)           10250       dropout_1[0][0]                  \n",
      "__________________________________________________________________________________________________\n",
      "output3 (Dense)                 (None, 10)           10250       dropout_1[0][0]                  \n",
      "__________________________________________________________________________________________________\n",
      "output4 (Dense)                 (None, 10)           10250       dropout_1[0][0]                  \n",
      "==================================================================================================\n",
      "Total params: 622,600\n",
      "Trainable params: 622,600\n",
      "Non-trainable params: 0\n",
      "__________________________________________________________________________________________________\n",
      "None\n"
     ]
    }
   ],
   "source": [
    "print(model.summary())"
   ]
  },
  {
   "cell_type": "code",
   "execution_count": 29,
   "metadata": {},
   "outputs": [
    {
     "data": {
      "image/svg+xml": [
       "<svg height=\"1067pt\" viewBox=\"0.00 0.00 466.00 1067.00\" width=\"466pt\" xmlns=\"http://www.w3.org/2000/svg\" xmlns:xlink=\"http://www.w3.org/1999/xlink\">\n",
       "<g class=\"graph\" id=\"graph0\" transform=\"scale(1 1) rotate(0) translate(4 1063)\">\n",
       "<title>G</title>\n",
       "<polygon fill=\"white\" points=\"-4,4 -4,-1063 462,-1063 462,4 -4,4\" stroke=\"none\"/>\n",
       "<!-- 2099441078736 -->\n",
       "<g class=\"node\" id=\"node1\"><title>2099441078736</title>\n",
       "<polygon fill=\"none\" points=\"165.5,-1022.5 165.5,-1058.5 291.5,-1058.5 291.5,-1022.5 165.5,-1022.5\" stroke=\"black\"/>\n",
       "<text font-family=\"Times New Roman,serif\" font-size=\"14.00\" text-anchor=\"middle\" x=\"228.5\" y=\"-1036.8\">input_1: InputLayer</text>\n",
       "</g>\n",
       "<!-- 2099442766456 -->\n",
       "<g class=\"node\" id=\"node2\"><title>2099442766456</title>\n",
       "<polygon fill=\"none\" points=\"165,-949.5 165,-985.5 292,-985.5 292,-949.5 165,-949.5\" stroke=\"black\"/>\n",
       "<text font-family=\"Times New Roman,serif\" font-size=\"14.00\" text-anchor=\"middle\" x=\"228.5\" y=\"-963.8\">conv2d_1: Conv2D</text>\n",
       "</g>\n",
       "<!-- 2099441078736&#45;&gt;2099442766456 -->\n",
       "<g class=\"edge\" id=\"edge1\"><title>2099441078736-&gt;2099442766456</title>\n",
       "<path d=\"M228.5,-1022.31C228.5,-1014.29 228.5,-1004.55 228.5,-995.569\" fill=\"none\" stroke=\"black\"/>\n",
       "<polygon fill=\"black\" points=\"232,-995.529 228.5,-985.529 225,-995.529 232,-995.529\" stroke=\"black\"/>\n",
       "</g>\n",
       "<!-- 2099442769256 -->\n",
       "<g class=\"node\" id=\"node3\"><title>2099442769256</title>\n",
       "<polygon fill=\"none\" points=\"165,-876.5 165,-912.5 292,-912.5 292,-876.5 165,-876.5\" stroke=\"black\"/>\n",
       "<text font-family=\"Times New Roman,serif\" font-size=\"14.00\" text-anchor=\"middle\" x=\"228.5\" y=\"-890.8\">conv2d_2: Conv2D</text>\n",
       "</g>\n",
       "<!-- 2099442766456&#45;&gt;2099442769256 -->\n",
       "<g class=\"edge\" id=\"edge2\"><title>2099442766456-&gt;2099442769256</title>\n",
       "<path d=\"M228.5,-949.313C228.5,-941.289 228.5,-931.547 228.5,-922.569\" fill=\"none\" stroke=\"black\"/>\n",
       "<polygon fill=\"black\" points=\"232,-922.529 228.5,-912.529 225,-922.529 232,-922.529\" stroke=\"black\"/>\n",
       "</g>\n",
       "<!-- 2099449633704 -->\n",
       "<g class=\"node\" id=\"node4\"><title>2099449633704</title>\n",
       "<polygon fill=\"none\" points=\"124,-803.5 124,-839.5 333,-839.5 333,-803.5 124,-803.5\" stroke=\"black\"/>\n",
       "<text font-family=\"Times New Roman,serif\" font-size=\"14.00\" text-anchor=\"middle\" x=\"228.5\" y=\"-817.8\">max_pooling2d_1: MaxPooling2D</text>\n",
       "</g>\n",
       "<!-- 2099442769256&#45;&gt;2099449633704 -->\n",
       "<g class=\"edge\" id=\"edge3\"><title>2099442769256-&gt;2099449633704</title>\n",
       "<path d=\"M228.5,-876.313C228.5,-868.289 228.5,-858.547 228.5,-849.569\" fill=\"none\" stroke=\"black\"/>\n",
       "<polygon fill=\"black\" points=\"232,-849.529 228.5,-839.529 225,-849.529 232,-849.529\" stroke=\"black\"/>\n",
       "</g>\n",
       "<!-- 2099442180728 -->\n",
       "<g class=\"node\" id=\"node5\"><title>2099442180728</title>\n",
       "<polygon fill=\"none\" points=\"165,-730.5 165,-766.5 292,-766.5 292,-730.5 165,-730.5\" stroke=\"black\"/>\n",
       "<text font-family=\"Times New Roman,serif\" font-size=\"14.00\" text-anchor=\"middle\" x=\"228.5\" y=\"-744.8\">conv2d_3: Conv2D</text>\n",
       "</g>\n",
       "<!-- 2099449633704&#45;&gt;2099442180728 -->\n",
       "<g class=\"edge\" id=\"edge4\"><title>2099449633704-&gt;2099442180728</title>\n",
       "<path d=\"M228.5,-803.313C228.5,-795.289 228.5,-785.547 228.5,-776.569\" fill=\"none\" stroke=\"black\"/>\n",
       "<polygon fill=\"black\" points=\"232,-776.529 228.5,-766.529 225,-776.529 232,-776.529\" stroke=\"black\"/>\n",
       "</g>\n",
       "<!-- 2099442183248 -->\n",
       "<g class=\"node\" id=\"node6\"><title>2099442183248</title>\n",
       "<polygon fill=\"none\" points=\"165,-657.5 165,-693.5 292,-693.5 292,-657.5 165,-657.5\" stroke=\"black\"/>\n",
       "<text font-family=\"Times New Roman,serif\" font-size=\"14.00\" text-anchor=\"middle\" x=\"228.5\" y=\"-671.8\">conv2d_4: Conv2D</text>\n",
       "</g>\n",
       "<!-- 2099442180728&#45;&gt;2099442183248 -->\n",
       "<g class=\"edge\" id=\"edge5\"><title>2099442180728-&gt;2099442183248</title>\n",
       "<path d=\"M228.5,-730.313C228.5,-722.289 228.5,-712.547 228.5,-703.569\" fill=\"none\" stroke=\"black\"/>\n",
       "<polygon fill=\"black\" points=\"232,-703.529 228.5,-693.529 225,-703.529 232,-703.529\" stroke=\"black\"/>\n",
       "</g>\n",
       "<!-- 2099442181512 -->\n",
       "<g class=\"node\" id=\"node7\"><title>2099442181512</title>\n",
       "<polygon fill=\"none\" points=\"124,-584.5 124,-620.5 333,-620.5 333,-584.5 124,-584.5\" stroke=\"black\"/>\n",
       "<text font-family=\"Times New Roman,serif\" font-size=\"14.00\" text-anchor=\"middle\" x=\"228.5\" y=\"-598.8\">max_pooling2d_2: MaxPooling2D</text>\n",
       "</g>\n",
       "<!-- 2099442183248&#45;&gt;2099442181512 -->\n",
       "<g class=\"edge\" id=\"edge6\"><title>2099442183248-&gt;2099442181512</title>\n",
       "<path d=\"M228.5,-657.313C228.5,-649.289 228.5,-639.547 228.5,-630.569\" fill=\"none\" stroke=\"black\"/>\n",
       "<polygon fill=\"black\" points=\"232,-630.529 228.5,-620.529 225,-630.529 232,-630.529\" stroke=\"black\"/>\n",
       "</g>\n",
       "<!-- 2099442355840 -->\n",
       "<g class=\"node\" id=\"node8\"><title>2099442355840</title>\n",
       "<polygon fill=\"none\" points=\"165,-511.5 165,-547.5 292,-547.5 292,-511.5 165,-511.5\" stroke=\"black\"/>\n",
       "<text font-family=\"Times New Roman,serif\" font-size=\"14.00\" text-anchor=\"middle\" x=\"228.5\" y=\"-525.8\">conv2d_5: Conv2D</text>\n",
       "</g>\n",
       "<!-- 2099442181512&#45;&gt;2099442355840 -->\n",
       "<g class=\"edge\" id=\"edge7\"><title>2099442181512-&gt;2099442355840</title>\n",
       "<path d=\"M228.5,-584.313C228.5,-576.289 228.5,-566.547 228.5,-557.569\" fill=\"none\" stroke=\"black\"/>\n",
       "<polygon fill=\"black\" points=\"232,-557.529 228.5,-547.529 225,-557.529 232,-557.529\" stroke=\"black\"/>\n",
       "</g>\n",
       "<!-- 2099442529784 -->\n",
       "<g class=\"node\" id=\"node9\"><title>2099442529784</title>\n",
       "<polygon fill=\"none\" points=\"165,-438.5 165,-474.5 292,-474.5 292,-438.5 165,-438.5\" stroke=\"black\"/>\n",
       "<text font-family=\"Times New Roman,serif\" font-size=\"14.00\" text-anchor=\"middle\" x=\"228.5\" y=\"-452.8\">conv2d_6: Conv2D</text>\n",
       "</g>\n",
       "<!-- 2099442355840&#45;&gt;2099442529784 -->\n",
       "<g class=\"edge\" id=\"edge8\"><title>2099442355840-&gt;2099442529784</title>\n",
       "<path d=\"M228.5,-511.313C228.5,-503.289 228.5,-493.547 228.5,-484.569\" fill=\"none\" stroke=\"black\"/>\n",
       "<polygon fill=\"black\" points=\"232,-484.529 228.5,-474.529 225,-484.529 232,-484.529\" stroke=\"black\"/>\n",
       "</g>\n",
       "<!-- 2099442355784 -->\n",
       "<g class=\"node\" id=\"node10\"><title>2099442355784</title>\n",
       "<polygon fill=\"none\" points=\"124,-365.5 124,-401.5 333,-401.5 333,-365.5 124,-365.5\" stroke=\"black\"/>\n",
       "<text font-family=\"Times New Roman,serif\" font-size=\"14.00\" text-anchor=\"middle\" x=\"228.5\" y=\"-379.8\">max_pooling2d_3: MaxPooling2D</text>\n",
       "</g>\n",
       "<!-- 2099442529784&#45;&gt;2099442355784 -->\n",
       "<g class=\"edge\" id=\"edge9\"><title>2099442529784-&gt;2099442355784</title>\n",
       "<path d=\"M228.5,-438.313C228.5,-430.289 228.5,-420.547 228.5,-411.569\" fill=\"none\" stroke=\"black\"/>\n",
       "<polygon fill=\"black\" points=\"232,-411.529 228.5,-401.529 225,-411.529 232,-411.529\" stroke=\"black\"/>\n",
       "</g>\n",
       "<!-- 2099443029888 -->\n",
       "<g class=\"node\" id=\"node11\"><title>2099443029888</title>\n",
       "<polygon fill=\"none\" points=\"165,-292.5 165,-328.5 292,-328.5 292,-292.5 165,-292.5\" stroke=\"black\"/>\n",
       "<text font-family=\"Times New Roman,serif\" font-size=\"14.00\" text-anchor=\"middle\" x=\"228.5\" y=\"-306.8\">conv2d_7: Conv2D</text>\n",
       "</g>\n",
       "<!-- 2099442355784&#45;&gt;2099443029888 -->\n",
       "<g class=\"edge\" id=\"edge10\"><title>2099442355784-&gt;2099443029888</title>\n",
       "<path d=\"M228.5,-365.313C228.5,-357.289 228.5,-347.547 228.5,-338.569\" fill=\"none\" stroke=\"black\"/>\n",
       "<polygon fill=\"black\" points=\"232,-338.529 228.5,-328.529 225,-338.529 232,-338.529\" stroke=\"black\"/>\n",
       "</g>\n",
       "<!-- 2099443028600 -->\n",
       "<g class=\"node\" id=\"node12\"><title>2099443028600</title>\n",
       "<polygon fill=\"none\" points=\"124,-219.5 124,-255.5 333,-255.5 333,-219.5 124,-219.5\" stroke=\"black\"/>\n",
       "<text font-family=\"Times New Roman,serif\" font-size=\"14.00\" text-anchor=\"middle\" x=\"228.5\" y=\"-233.8\">max_pooling2d_4: MaxPooling2D</text>\n",
       "</g>\n",
       "<!-- 2099443029888&#45;&gt;2099443028600 -->\n",
       "<g class=\"edge\" id=\"edge11\"><title>2099443029888-&gt;2099443028600</title>\n",
       "<path d=\"M228.5,-292.313C228.5,-284.289 228.5,-274.547 228.5,-265.569\" fill=\"none\" stroke=\"black\"/>\n",
       "<polygon fill=\"black\" points=\"232,-265.529 228.5,-255.529 225,-265.529 232,-265.529\" stroke=\"black\"/>\n",
       "</g>\n",
       "<!-- 2099441079016 -->\n",
       "<g class=\"node\" id=\"node13\"><title>2099441079016</title>\n",
       "<polygon fill=\"none\" points=\"174,-146.5 174,-182.5 283,-182.5 283,-146.5 174,-146.5\" stroke=\"black\"/>\n",
       "<text font-family=\"Times New Roman,serif\" font-size=\"14.00\" text-anchor=\"middle\" x=\"228.5\" y=\"-160.8\">flatten_1: Flatten</text>\n",
       "</g>\n",
       "<!-- 2099443028600&#45;&gt;2099441079016 -->\n",
       "<g class=\"edge\" id=\"edge12\"><title>2099443028600-&gt;2099441079016</title>\n",
       "<path d=\"M228.5,-219.313C228.5,-211.289 228.5,-201.547 228.5,-192.569\" fill=\"none\" stroke=\"black\"/>\n",
       "<polygon fill=\"black\" points=\"232,-192.529 228.5,-182.529 225,-192.529 232,-192.529\" stroke=\"black\"/>\n",
       "</g>\n",
       "<!-- 2099443108160 -->\n",
       "<g class=\"node\" id=\"node14\"><title>2099443108160</title>\n",
       "<polygon fill=\"none\" points=\"163.5,-73.5 163.5,-109.5 293.5,-109.5 293.5,-73.5 163.5,-73.5\" stroke=\"black\"/>\n",
       "<text font-family=\"Times New Roman,serif\" font-size=\"14.00\" text-anchor=\"middle\" x=\"228.5\" y=\"-87.8\">dropout_1: Dropout</text>\n",
       "</g>\n",
       "<!-- 2099441079016&#45;&gt;2099443108160 -->\n",
       "<g class=\"edge\" id=\"edge13\"><title>2099441079016-&gt;2099443108160</title>\n",
       "<path d=\"M228.5,-146.313C228.5,-138.289 228.5,-128.547 228.5,-119.569\" fill=\"none\" stroke=\"black\"/>\n",
       "<polygon fill=\"black\" points=\"232,-119.529 228.5,-109.529 225,-119.529 232,-119.529\" stroke=\"black\"/>\n",
       "</g>\n",
       "<!-- 2099443566072 -->\n",
       "<g class=\"node\" id=\"node15\"><title>2099443566072</title>\n",
       "<polygon fill=\"none\" points=\"0,-0.5 0,-36.5 101,-36.5 101,-0.5 0,-0.5\" stroke=\"black\"/>\n",
       "<text font-family=\"Times New Roman,serif\" font-size=\"14.00\" text-anchor=\"middle\" x=\"50.5\" y=\"-14.8\">output1: Dense</text>\n",
       "</g>\n",
       "<!-- 2099443108160&#45;&gt;2099443566072 -->\n",
       "<g class=\"edge\" id=\"edge14\"><title>2099443108160-&gt;2099443566072</title>\n",
       "<path d=\"M185.865,-73.4937C160.949,-63.5555 129.307,-50.9343 102.882,-40.3939\" fill=\"none\" stroke=\"black\"/>\n",
       "<polygon fill=\"black\" points=\"103.99,-37.0676 93.4045,-36.6136 101.396,-43.5695 103.99,-37.0676\" stroke=\"black\"/>\n",
       "</g>\n",
       "<!-- 2099443566016 -->\n",
       "<g class=\"node\" id=\"node16\"><title>2099443566016</title>\n",
       "<polygon fill=\"none\" points=\"119,-0.5 119,-36.5 220,-36.5 220,-0.5 119,-0.5\" stroke=\"black\"/>\n",
       "<text font-family=\"Times New Roman,serif\" font-size=\"14.00\" text-anchor=\"middle\" x=\"169.5\" y=\"-14.8\">output2: Dense</text>\n",
       "</g>\n",
       "<!-- 2099443108160&#45;&gt;2099443566016 -->\n",
       "<g class=\"edge\" id=\"edge15\"><title>2099443108160-&gt;2099443566016</title>\n",
       "<path d=\"M214.218,-73.3129C206.971,-64.5918 198.036,-53.8402 190.064,-44.2459\" fill=\"none\" stroke=\"black\"/>\n",
       "<polygon fill=\"black\" points=\"192.734,-41.983 183.651,-36.5288 187.35,-46.4569 192.734,-41.983\" stroke=\"black\"/>\n",
       "</g>\n",
       "<!-- 2099443621000 -->\n",
       "<g class=\"node\" id=\"node17\"><title>2099443621000</title>\n",
       "<polygon fill=\"none\" points=\"238,-0.5 238,-36.5 339,-36.5 339,-0.5 238,-0.5\" stroke=\"black\"/>\n",
       "<text font-family=\"Times New Roman,serif\" font-size=\"14.00\" text-anchor=\"middle\" x=\"288.5\" y=\"-14.8\">output3: Dense</text>\n",
       "</g>\n",
       "<!-- 2099443108160&#45;&gt;2099443621000 -->\n",
       "<g class=\"edge\" id=\"edge16\"><title>2099443108160-&gt;2099443621000</title>\n",
       "<path d=\"M243.024,-73.3129C250.394,-64.5918 259.48,-53.8402 267.588,-44.2459\" fill=\"none\" stroke=\"black\"/>\n",
       "<polygon fill=\"black\" points=\"270.328,-46.4259 274.109,-36.5288 264.982,-41.9077 270.328,-46.4259\" stroke=\"black\"/>\n",
       "</g>\n",
       "<!-- 2099443730696 -->\n",
       "<g class=\"node\" id=\"node18\"><title>2099443730696</title>\n",
       "<polygon fill=\"none\" points=\"357,-0.5 357,-36.5 458,-36.5 458,-0.5 357,-0.5\" stroke=\"black\"/>\n",
       "<text font-family=\"Times New Roman,serif\" font-size=\"14.00\" text-anchor=\"middle\" x=\"407.5\" y=\"-14.8\">output4: Dense</text>\n",
       "</g>\n",
       "<!-- 2099443108160&#45;&gt;2099443730696 -->\n",
       "<g class=\"edge\" id=\"edge17\"><title>2099443108160-&gt;2099443730696</title>\n",
       "<path d=\"M271.375,-73.4937C296.431,-63.5555 328.25,-50.9343 354.824,-40.3939\" fill=\"none\" stroke=\"black\"/>\n",
       "<polygon fill=\"black\" points=\"356.35,-43.5541 364.355,-36.6136 353.769,-37.0473 356.35,-43.5541\" stroke=\"black\"/>\n",
       "</g>\n",
       "</g>\n",
       "</svg>"
      ],
      "text/plain": [
       "<IPython.core.display.SVG object>"
      ]
     },
     "execution_count": 29,
     "metadata": {},
     "output_type": "execute_result"
    }
   ],
   "source": [
    "SVG(model_to_dot(model).create(prog='dot', format='svg'))"
   ]
  },
  {
   "cell_type": "code",
   "execution_count": 30,
   "metadata": {},
   "outputs": [],
   "source": [
    "model.compile(loss='categorical_crossentropy', optimizer='adam', metrics=['accuracy'])"
   ]
  },
  {
   "cell_type": "markdown",
   "metadata": {},
   "source": [
    "# 開始訓練"
   ]
  },
  {
   "cell_type": "code",
   "execution_count": 31,
   "metadata": {},
   "outputs": [
    {
     "name": "stdout",
     "output_type": "stream",
     "text": [
      "Train on 1600 samples, validate on 400 samples\n",
      "Epoch 1/10\n",
      " - 20s - loss: 9.2153 - output1_loss: 2.3042 - output2_loss: 2.3025 - output3_loss: 2.3039 - output4_loss: 2.3047 - output1_acc: 0.0988 - output2_acc: 0.0987 - output3_acc: 0.0900 - output4_acc: 0.0962 - val_loss: 9.2082 - val_output1_loss: 2.3017 - val_output2_loss: 2.3019 - val_output3_loss: 2.3025 - val_output4_loss: 2.3020 - val_output1_acc: 0.0800 - val_output2_acc: 0.1200 - val_output3_acc: 0.0900 - val_output4_acc: 0.1150\n",
      "Epoch 2/10\n",
      " - 13s - loss: 9.2072 - output1_loss: 2.3013 - output2_loss: 2.3012 - output3_loss: 2.3019 - output4_loss: 2.3027 - output1_acc: 0.1031 - output2_acc: 0.1138 - output3_acc: 0.1044 - output4_acc: 0.1100 - val_loss: 9.1879 - val_output1_loss: 2.2994 - val_output2_loss: 2.2958 - val_output3_loss: 2.2976 - val_output4_loss: 2.2951 - val_output1_acc: 0.0800 - val_output2_acc: 0.1600 - val_output3_acc: 0.1225 - val_output4_acc: 0.1150\n",
      "Epoch 3/10\n",
      " - 17s - loss: 9.0485 - output1_loss: 2.2904 - output2_loss: 2.2523 - output3_loss: 2.2413 - output4_loss: 2.2645 - output1_acc: 0.1425 - output2_acc: 0.1475 - output3_acc: 0.1656 - output4_acc: 0.1338 - val_loss: 8.5246 - val_output1_loss: 2.1457 - val_output2_loss: 2.1429 - val_output3_loss: 2.1051 - val_output4_loss: 2.1309 - val_output1_acc: 0.1650 - val_output2_acc: 0.1625 - val_output3_acc: 0.1575 - val_output4_acc: 0.1650\n",
      "Epoch 4/10\n",
      " - 17s - loss: 7.6481 - output1_loss: 2.0379 - output2_loss: 1.8783 - output3_loss: 1.8154 - output4_loss: 1.9164 - output1_acc: 0.2681 - output2_acc: 0.3194 - output3_acc: 0.3613 - output4_acc: 0.3088 - val_loss: 4.6009 - val_output1_loss: 1.2943 - val_output2_loss: 1.1609 - val_output3_loss: 0.9667 - val_output4_loss: 1.1790 - val_output1_acc: 0.6450 - val_output2_acc: 0.6950 - val_output3_acc: 0.7725 - val_output4_acc: 0.6450\n",
      "Epoch 5/10\n",
      " - 17s - loss: 3.9646 - output1_loss: 1.1239 - output2_loss: 1.0218 - output3_loss: 0.8455 - output4_loss: 0.9735 - output1_acc: 0.5981 - output2_acc: 0.6400 - output3_acc: 0.7000 - output4_acc: 0.6481 - val_loss: 1.1181 - val_output1_loss: 0.2977 - val_output2_loss: 0.2978 - val_output3_loss: 0.2711 - val_output4_loss: 0.2515 - val_output1_acc: 0.9650 - val_output2_acc: 0.9350 - val_output3_acc: 0.9375 - val_output4_acc: 0.9500\n",
      "Epoch 6/10\n",
      " - 17s - loss: 1.4473 - output1_loss: 0.3161 - output2_loss: 0.4345 - output3_loss: 0.3501 - output4_loss: 0.3467 - output1_acc: 0.8937 - output2_acc: 0.8575 - output3_acc: 0.8788 - output4_acc: 0.8781 - val_loss: 0.2055 - val_output1_loss: 0.0264 - val_output2_loss: 0.0799 - val_output3_loss: 0.0509 - val_output4_loss: 0.0483 - val_output1_acc: 0.9975 - val_output2_acc: 0.9800 - val_output3_acc: 0.9875 - val_output4_acc: 0.9925\n",
      "Epoch 7/10\n",
      " - 17s - loss: 0.6473 - output1_loss: 0.1478 - output2_loss: 0.1949 - output3_loss: 0.1598 - output4_loss: 0.1448 - output1_acc: 0.9525 - output2_acc: 0.9381 - output3_acc: 0.9456 - output4_acc: 0.9475 - val_loss: 0.0654 - val_output1_loss: 0.0019 - val_output2_loss: 0.0153 - val_output3_loss: 0.0294 - val_output4_loss: 0.0189 - val_output1_acc: 1.0000 - val_output2_acc: 0.9950 - val_output3_acc: 0.9925 - val_output4_acc: 0.9925\n",
      "Epoch 8/10\n",
      " - 17s - loss: 0.3129 - output1_loss: 0.0632 - output2_loss: 0.0994 - output3_loss: 0.0833 - output4_loss: 0.0670 - output1_acc: 0.9800 - output2_acc: 0.9631 - output3_acc: 0.9738 - output4_acc: 0.9769 - val_loss: 0.0563 - val_output1_loss: 0.0012 - val_output2_loss: 0.0046 - val_output3_loss: 0.0319 - val_output4_loss: 0.0187 - val_output1_acc: 1.0000 - val_output2_acc: 0.9975 - val_output3_acc: 0.9875 - val_output4_acc: 0.9925\n",
      "Epoch 9/10\n",
      " - 17s - loss: 0.2094 - output1_loss: 0.0335 - output2_loss: 0.0547 - output3_loss: 0.0690 - output4_loss: 0.0523 - output1_acc: 0.9900 - output2_acc: 0.9794 - output3_acc: 0.9750 - output4_acc: 0.9838 - val_loss: 0.0374 - val_output1_loss: 1.1218e-04 - val_output2_loss: 6.6610e-04 - val_output3_loss: 0.0223 - val_output4_loss: 0.0143 - val_output1_acc: 1.0000 - val_output2_acc: 1.0000 - val_output3_acc: 0.9950 - val_output4_acc: 0.9925\n",
      "Epoch 10/10\n",
      " - 17s - loss: 0.1237 - output1_loss: 0.0206 - output2_loss: 0.0304 - output3_loss: 0.0376 - output4_loss: 0.0351 - output1_acc: 0.9944 - output2_acc: 0.9894 - output3_acc: 0.9875 - output4_acc: 0.9863 - val_loss: 0.0476 - val_output1_loss: 6.8314e-05 - val_output2_loss: 2.6930e-04 - val_output3_loss: 0.0333 - val_output4_loss: 0.0140 - val_output1_acc: 1.0000 - val_output2_acc: 1.0000 - val_output3_acc: 0.9950 - val_output4_acc: 0.9950\n"
     ]
    }
   ],
   "source": [
    "train_history = model.fit(x=x_Train, y=y_Train, validation_split=0.2, epochs=10, batch_size=100, verbose=2)"
   ]
  },
  {
   "cell_type": "code",
   "execution_count": 32,
   "metadata": {},
   "outputs": [],
   "source": [
    "import matplotlib.pyplot as plt\n",
    "def show_train_history(train_history, train, validation):\n",
    "    plt.plot(train_history.history[train])\n",
    "    plt.plot(train_history.history[validation])\n",
    "    plt.title('Train History')\n",
    "    plt.ylabel(train)\n",
    "    plt.xlabel('Epoch')\n",
    "    plt.legend(['train', 'validation'], loc='upper left')\n",
    "    plt.show()"
   ]
  },
  {
   "cell_type": "markdown",
   "metadata": {},
   "source": [
    "# 訓練過程準確率的變化"
   ]
  },
  {
   "cell_type": "code",
   "execution_count": 33,
   "metadata": {
    "scrolled": true
   },
   "outputs": [
    {
     "data": {
      "image/png": "[encoded data removed]",
      "text/plain": [
       "<Figure size 432x288 with 1 Axes>"
      ]
     },
     "metadata": {},
     "output_type": "display_data"
    }
   ],
   "source": [
    "show_train_history(train_history, 'output1_acc', 'val_output1_acc')"
   ]
  },
  {
   "cell_type": "markdown",
   "metadata": {},
   "source": [
    "# 儲存模型"
   ]
  },
  {
   "cell_type": "code",
   "execution_count": 34,
   "metadata": {},
   "outputs": [],
   "source": [
    "model.save('Models\\\\Captcha_Model_002.h5')"
   ]
  },
  {
   "cell_type": "markdown",
   "metadata": {},
   "source": [
    "# 分別將模型儲存成 **json** 檔與權重檔"
   ]
  },
  {
   "cell_type": "code",
   "execution_count": 35,
   "metadata": {},
   "outputs": [],
   "source": [
    "from keras.models import model_from_json\n",
    "import json\n",
    "json_string = model.to_json()\n",
    "with open('Models\\\\Captcha_Model_002.json', 'w') as outfile:\n",
    "    json.dump(json_string, outfile)\n",
    "    \n",
    "model.save_weights('Models\\\\Captcha_Model_Weight_002.h5')"
   ]
  }
 ],
 "metadata": {
  "kernelspec": {
   "display_name": "Python 3",
   "language": "python",
   "name": "python3"
  },
  "language_info": {
   "codemirror_mode": {
    "name": "ipython",
    "version": 3
   },
   "file_extension": ".py",
   "mimetype": "text/x-python",
   "name": "python",
   "nbconvert_exporter": "python",
   "pygments_lexer": "ipython3",
   "version": "3.6.6"
  }
 },
 "nbformat": 4,
 "nbformat_minor": 2
}
